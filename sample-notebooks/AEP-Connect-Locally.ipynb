{
 "cells": [
  {
   "cell_type": "code",
   "execution_count": 1,
   "metadata": {},
   "outputs": [],
   "source": [
    "#!pip install --user psycopg2-binary\n",
    "#!pip install --user sql_magic\n",
    "\n",
    "import sys\n",
    "import pprint\n",
    "import psycopg2"
   ]
  },
  {
   "cell_type": "code",
   "execution_count": 2,
   "metadata": {},
   "outputs": [
    {
     "ename": "OperationalError",
     "evalue": "FATAL:  Expired token\n",
     "output_type": "error",
     "traceback": [
      "\u001b[0;31m---------------------------------------------------------------------------\u001b[0m",
      "\u001b[0;31mOperationalError\u001b[0m                          Traceback (most recent call last)",
      "\u001b[0;32m<ipython-input-2-836239a6ce01>\u001b[0m in \u001b[0;36m<module>\u001b[0;34m\u001b[0m\n\u001b[1;32m      6\u001b[0m      \u001b[0mdbname\u001b[0m\u001b[0;34m=\u001b[0m\u001b[0;34m'all'\u001b[0m\u001b[0;34m,\u001b[0m\u001b[0;34m\u001b[0m\u001b[0;34m\u001b[0m\u001b[0m\n\u001b[1;32m      7\u001b[0m      \u001b[0muser\u001b[0m\u001b[0;34m=\u001b[0m\u001b[0;34m'E8475990589B24A90A495DDD@AdobeOrg'\u001b[0m\u001b[0;34m,\u001b[0m\u001b[0;34m\u001b[0m\u001b[0;34m\u001b[0m\u001b[0m\n\u001b[0;32m----> 8\u001b[0;31m      password='eNqrVqowLVWyUsrMLY7PSzTUzU6t1DXUS04tUtJRSsxJB8oEBRuZminVAgALngwl.eNptUmtv2jAU_S_5WJESP-NUmjQWoKUj6ZJBWxBSZGwHAiRmiakKVf_7HMo2aZslW77H576O75tTSOfGAcTHAcJeQAn1MxhAlouldL2cEBdzLlwuAt-aAgY-QDznIjso4HQcsStUZbJzEC722aHI9jtucl2X9vXQqPrjjTAyGA4hIXgQ-ja-18NhwEL6uSf1Uo36ltwYbpSlvi2cRjVNoauFc7Nw1sbsm5tutygbt-LgmrcOO70qqmuhyxbuXujdF9CNYbyJJ8kxmkRmXo5Oceh58_70dfw03MzLyMTwcR3fjtBsIshsk6Dxdw889B-H6XZ2jCdTL51GKNpsj9Fg4CWnLU5O817ylL7Mysf7tLdw3m2h5rhX53aFzZsZvVWVRXljsUuR1sxX1pz4IRzTFD-PhwTdTWH4MBt_hUkvHH06r7br3_ozhGhgN8gAo57PmXQhJMDFEkA3wEvqYiwQJLmEfs4v-tfmP__HAAHMJ8yFSCoX51i5SxkErk-o5JxhX6Jf_lpY71pVK35l666vAFVLQBGElFyld18ZvXuOYOCx_iDx0yAFg7l_O2HnxIp_JKYA28LbxBYudWFRiIHIl8RrB8Sa931Ezf18LTaj9YF-IQf8w5uuzu2r131RqyYrKstjFHvtamUR-iyyPatCdi4_3KkVl5muV7wqTtxYpOlwKYv2xnc2SK6v97XeKGGU_FZreRAm1JVRr-YfXq13qun8GT9hY1uvjJu_9XTefwKdlPIP.eNoBAAH__iMGusFtokv4wYMlWelCib_DrxVaqTFsWCvnbeTALfuMbWXfqxr3vtbjZ98qXOi-aDIjhh2U2ExFj2n_Jzg8SsBFAXQD7BylwKNjMMVujSbUgjcljEEUspeRdn05xA9w2dDZaAqcpIAcdm7K_9Zy5GGzqQ03_EwQ-JDoLAcPLkJE6NSOBNtfXC2BSnWNC3YL9zihRD4G86ENix14oUFi5Ui-OvZa8nuB2rfYz8OpAPL0bLU9YH5heW2HwAtT4wmCbj-4i-m-59YyElO8pzvhYl0MGnvhcF4j0lHzMwGlrIJHCYIGFBVM-FKCzngteCQZcYM6AvWUuFPV6vclRhRbrBP9Onqy')\n\u001b[0m",
      "\u001b[0;32m~/.local/lib/python3.7/site-packages/psycopg2/__init__.py\u001b[0m in \u001b[0;36mconnect\u001b[0;34m(dsn, connection_factory, cursor_factory, **kwargs)\u001b[0m\n\u001b[1;32m    124\u001b[0m \u001b[0;34m\u001b[0m\u001b[0m\n\u001b[1;32m    125\u001b[0m     \u001b[0mdsn\u001b[0m \u001b[0;34m=\u001b[0m \u001b[0m_ext\u001b[0m\u001b[0;34m.\u001b[0m\u001b[0mmake_dsn\u001b[0m\u001b[0;34m(\u001b[0m\u001b[0mdsn\u001b[0m\u001b[0;34m,\u001b[0m \u001b[0;34m**\u001b[0m\u001b[0mkwargs\u001b[0m\u001b[0;34m)\u001b[0m\u001b[0;34m\u001b[0m\u001b[0;34m\u001b[0m\u001b[0m\n\u001b[0;32m--> 126\u001b[0;31m     \u001b[0mconn\u001b[0m \u001b[0;34m=\u001b[0m \u001b[0m_connect\u001b[0m\u001b[0;34m(\u001b[0m\u001b[0mdsn\u001b[0m\u001b[0;34m,\u001b[0m \u001b[0mconnection_factory\u001b[0m\u001b[0;34m=\u001b[0m\u001b[0mconnection_factory\u001b[0m\u001b[0;34m,\u001b[0m \u001b[0;34m**\u001b[0m\u001b[0mkwasync\u001b[0m\u001b[0;34m)\u001b[0m\u001b[0;34m\u001b[0m\u001b[0;34m\u001b[0m\u001b[0m\n\u001b[0m\u001b[1;32m    127\u001b[0m     \u001b[0;32mif\u001b[0m \u001b[0mcursor_factory\u001b[0m \u001b[0;32mis\u001b[0m \u001b[0;32mnot\u001b[0m \u001b[0;32mNone\u001b[0m\u001b[0;34m:\u001b[0m\u001b[0;34m\u001b[0m\u001b[0;34m\u001b[0m\u001b[0m\n\u001b[1;32m    128\u001b[0m         \u001b[0mconn\u001b[0m\u001b[0;34m.\u001b[0m\u001b[0mcursor_factory\u001b[0m \u001b[0;34m=\u001b[0m \u001b[0mcursor_factory\u001b[0m\u001b[0;34m\u001b[0m\u001b[0;34m\u001b[0m\u001b[0m\n",
      "\u001b[0;31mOperationalError\u001b[0m: FATAL:  Expired token\n"
     ]
    }
   ],
   "source": [
    "# Copy these settings from https://platform.adobe.com/query/configuration\n",
    "connection = psycopg2.connect(\n",
    "    sslmode='require',\n",
    "     host='salesvelocity.platform-query.adobe.io',\n",
    "     port='80',\n",
    "     dbname='all',\n",
    "     user='E8475990589B24A90A495DDD@AdobeOrg',\n",
    "     password='eNqrVqowLVWyUsrMLY7PSzTUzU6t1DXUS04tUtJRSsxJB8oEBRuZminVAgALngwl.eNptUmtv2jAU_S_5WJESP-NUmjQWoKUj6ZJBWxBSZGwHAiRmiakKVf_7HMo2aZslW77H576O75tTSOfGAcTHAcJeQAn1MxhAlouldL2cEBdzLlwuAt-aAgY-QDznIjso4HQcsStUZbJzEC722aHI9jtucl2X9vXQqPrjjTAyGA4hIXgQ-ja-18NhwEL6uSf1Uo36ltwYbpSlvi2cRjVNoauFc7Nw1sbsm5tutygbt-LgmrcOO70qqmuhyxbuXujdF9CNYbyJJ8kxmkRmXo5Oceh58_70dfw03MzLyMTwcR3fjtBsIshsk6Dxdw889B-H6XZ2jCdTL51GKNpsj9Fg4CWnLU5O817ylL7Mysf7tLdw3m2h5rhX53aFzZsZvVWVRXljsUuR1sxX1pz4IRzTFD-PhwTdTWH4MBt_hUkvHH06r7br3_ozhGhgN8gAo57PmXQhJMDFEkA3wEvqYiwQJLmEfs4v-tfmP__HAAHMJ8yFSCoX51i5SxkErk-o5JxhX6Jf_lpY71pVK35l666vAFVLQBGElFyld18ZvXuOYOCx_iDx0yAFg7l_O2HnxIp_JKYA28LbxBYudWFRiIHIl8RrB8Sa931Ezf18LTaj9YF-IQf8w5uuzu2r131RqyYrKstjFHvtamUR-iyyPatCdi4_3KkVl5muV7wqTtxYpOlwKYv2xnc2SK6v97XeKGGU_FZreRAm1JVRr-YfXq13qun8GT9hY1uvjJu_9XTefwKdlPIP.eNoBAAH__iMGusFtokv4wYMlWelCib_DrxVaqTFsWCvnbeTALfuMbWXfqxr3vtbjZ98qXOi-aDIjhh2U2ExFj2n_Jzg8SsBFAXQD7BylwKNjMMVujSbUgjcljEEUspeRdn05xA9w2dDZaAqcpIAcdm7K_9Zy5GGzqQ03_EwQ-JDoLAcPLkJE6NSOBNtfXC2BSnWNC3YL9zihRD4G86ENix14oUFi5Ui-OvZa8nuB2rfYz8OpAPL0bLU9YH5heW2HwAtT4wmCbj-4i-m-59YyElO8pzvhYl0MGnvhcF4j0lHzMwGlrIJHCYIGFBVM-FKCzngteCQZcYM6AvWUuFPV6vclRhRbrBP9Onqy')"
   ]
  },
  {
   "cell_type": "code",
   "execution_count": 0,
   "metadata": {},
   "outputs": [],
   "source": [
    "# Enable sql magic\n",
    "%load_ext sql_magic\n",
    "%config SQL.conn_name = 'connection'"
   ]
  },
  {
   "cell_type": "code",
   "execution_count": 0,
   "metadata": {},
   "outputs": [],
   "source": [
    "%%read_sql\n",
    "show tables"
   ]
  },
  {
   "cell_type": "code",
   "execution_count": null,
   "metadata": {},
   "outputs": [],
   "source": []
  },
  {
   "cell_type": "code",
   "execution_count": 0,
   "metadata": {},
   "outputs": [],
   "source": [
    "#%%read_sql df_result -a\n",
    "#SELECT *\n",
    "#FROM emea_ee_dataset_api"
   ]
  },
  {
   "cell_type": "code",
   "execution_count": 0,
   "metadata": {},
   "outputs": [],
   "source": [
    "df_result.head()"
   ]
  },
  {
   "cell_type": "code",
   "execution_count": 0,
   "metadata": {},
   "outputs": [],
   "source": [
    "import pandas\n",
    "df = pandas.read_sql(('show tables'), con=connection)\n",
    "#print (df)\n",
    "df.head()"
   ]
  },
  {
   "cell_type": "code",
   "execution_count": null,
   "metadata": {},
   "outputs": [],
   "source": []
  },
  {
   "cell_type": "code",
   "execution_count": null,
   "metadata": {},
   "outputs": [],
   "source": []
  },
  {
   "cell_type": "code",
   "execution_count": null,
   "metadata": {},
   "outputs": [],
   "source": []
  }
 ],
 "metadata": {
  "kernelspec": {
   "display_name": "Python 3",
   "language": "python",
   "name": "python3"
  },
  "language_info": {
   "codemirror_mode": {
    "name": "ipython",
    "version": 3
   },
   "file_extension": ".py",
   "mimetype": "text/x-python",
   "name": "python",
   "nbconvert_exporter": "python",
   "pygments_lexer": "ipython3",
   "version": "3.7.5"
  }
 },
 "nbformat": 4,
 "nbformat_minor": 4
}