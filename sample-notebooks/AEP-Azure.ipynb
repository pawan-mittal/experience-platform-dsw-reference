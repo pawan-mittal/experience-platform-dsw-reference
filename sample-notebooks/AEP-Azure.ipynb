{
  "cells": [
    {
      "cell_type": "code",
      "execution_count": 21,
      "metadata": {},
      "outputs": [
        {
          "name": "stdout",
          "output_type": "stream",
          "text": "Requirement already satisfied: psycopg2-binary in /Users/pmittal/.local/lib/python3.7/site-packages (2.8.4)\nRequirement already satisfied: sql_magic in /Users/pmittal/.local/lib/python3.7/site-packages (0.0.4)\nRequirement already satisfied: findspark in /Users/pmittal/.local/lib/python3.7/site-packages (from sql_magic) (1.3.0)\nRequirement already satisfied: jupyter in /Users/pmittal/.local/lib/python3.7/site-packages (from sql_magic) (1.0.0)\nRequirement already satisfied: sqlparse in /Users/pmittal/.local/lib/python3.7/site-packages (from sql_magic) (0.3.0)\nRequirement already satisfied: traitlets in /opt/anaconda3/envs/pmital/lib/python3.7/site-packages (from sql_magic) (4.3.3)\nRequirement already satisfied: pandas in /Users/pmittal/.local/lib/python3.7/site-packages (from sql_magic) (0.25.3)\nRequirement already satisfied: ipython in /opt/anaconda3/envs/pmital/lib/python3.7/site-packages (from sql_magic) (7.9.0)\nRequirement already satisfied: qtconsole in /opt/anaconda3/envs/pmital/lib/python3.7/site-packages (from jupyter->sql_magic) (4.6.0)\nRequirement already satisfied: nbconvert in /opt/anaconda3/envs/pmital/lib/python3.7/site-packages (from jupyter->sql_magic) (5.6.1)\nRequirement already satisfied: jupyter-console in /Users/pmittal/.local/lib/python3.7/site-packages (from jupyter->sql_magic) (6.0.0)\nRequirement already satisfied: ipywidgets in /Users/pmittal/.local/lib/python3.7/site-packages (from jupyter->sql_magic) (7.5.1)\nRequirement already satisfied: ipykernel in /opt/anaconda3/envs/pmital/lib/python3.7/site-packages (from jupyter->sql_magic) (5.1.3)\nRequirement already satisfied: notebook in /opt/anaconda3/envs/pmital/lib/python3.7/site-packages (from jupyter->sql_magic) (6.0.2)\nRequirement already satisfied: six in /opt/anaconda3/envs/pmital/lib/python3.7/site-packages (from traitlets->sql_magic) (1.13.0)\nRequirement already satisfied: decorator in /opt/anaconda3/envs/pmital/lib/python3.7/site-packages (from traitlets->sql_magic) (4.4.1)\nRequirement already satisfied: ipython-genutils in /opt/anaconda3/envs/pmital/lib/python3.7/site-packages (from traitlets->sql_magic) (0.2.0)\nRequirement already satisfied: pytz>=2017.2 in /opt/anaconda3/envs/pmital/lib/python3.7/site-packages (from pandas->sql_magic) (2019.3)\nRequirement already satisfied: python-dateutil>=2.6.1 in /opt/anaconda3/envs/pmital/lib/python3.7/site-packages (from pandas->sql_magic) (2.8.1)\nRequirement already satisfied: numpy>=1.13.3 in /Users/pmittal/.local/lib/python3.7/site-packages (from pandas->sql_magic) (1.17.4)\nRequirement already satisfied: setuptools>=18.5 in /opt/anaconda3/envs/pmital/lib/python3.7/site-packages (from ipython->sql_magic) (41.6.0.post20191030)\nRequirement already satisfied: pickleshare in /opt/anaconda3/envs/pmital/lib/python3.7/site-packages (from ipython->sql_magic) (0.7.5)\nRequirement already satisfied: jedi>=0.10 in /opt/anaconda3/envs/pmital/lib/python3.7/site-packages (from ipython->sql_magic) (0.15.1)\nRequirement already satisfied: pygments in /opt/anaconda3/envs/pmital/lib/python3.7/site-packages (from ipython->sql_magic) (2.4.2)\nRequirement already satisfied: pexpect; sys_platform != \"win32\" in /opt/anaconda3/envs/pmital/lib/python3.7/site-packages (from ipython->sql_magic) (4.7.0)\nRequirement already satisfied: backcall in /opt/anaconda3/envs/pmital/lib/python3.7/site-packages (from ipython->sql_magic) (0.1.0)\nRequirement already satisfied: prompt-toolkit<2.1.0,>=2.0.0 in /opt/anaconda3/envs/pmital/lib/python3.7/site-packages (from ipython->sql_magic) (2.0.10)\nRequirement already satisfied: appnope; sys_platform == \"darwin\" in /opt/anaconda3/envs/pmital/lib/python3.7/site-packages (from ipython->sql_magic) (0.1.0)\nRequirement already satisfied: jupyter-core in /opt/anaconda3/envs/pmital/lib/python3.7/site-packages (from qtconsole->jupyter->sql_magic) (4.6.1)\nRequirement already satisfied: jupyter-client>=4.1 in /opt/anaconda3/envs/pmital/lib/python3.7/site-packages (from qtconsole->jupyter->sql_magic) (5.3.4)\nRequirement already satisfied: entrypoints>=0.2.2 in /opt/anaconda3/envs/pmital/lib/python3.7/site-packages (from nbconvert->jupyter->sql_magic) (0.3)\nRequirement already satisfied: bleach in /opt/anaconda3/envs/pmital/lib/python3.7/site-packages (from nbconvert->jupyter->sql_magic) (3.1.0)\nRequirement already satisfied: mistune<2,>=0.8.1 in /opt/anaconda3/envs/pmital/lib/python3.7/site-packages (from nbconvert->jupyter->sql_magic) (0.8.4)\nRequirement already satisfied: jinja2>=2.4 in /opt/anaconda3/envs/pmital/lib/python3.7/site-packages (from nbconvert->jupyter->sql_magic) (2.10.3)\nRequirement already satisfied: testpath in /opt/anaconda3/envs/pmital/lib/python3.7/site-packages (from nbconvert->jupyter->sql_magic) (0.4.4)\nRequirement already satisfied: defusedxml in /opt/anaconda3/envs/pmital/lib/python3.7/site-packages (from nbconvert->jupyter->sql_magic) (0.6.0)\nRequirement already satisfied: nbformat>=4.4 in /opt/anaconda3/envs/pmital/lib/python3.7/site-packages (from nbconvert->jupyter->sql_magic) (4.4.0)\nRequirement already satisfied: pandocfilters>=1.4.1 in /opt/anaconda3/envs/pmital/lib/python3.7/site-packages (from nbconvert->jupyter->sql_magic) (1.4.2)\nRequirement already satisfied: widgetsnbextension~=3.5.0 in /Users/pmittal/.local/lib/python3.7/site-packages (from ipywidgets->jupyter->sql_magic) (3.5.1)\nRequirement already satisfied: tornado>=4.2 in /opt/anaconda3/envs/pmital/lib/python3.7/site-packages (from ipykernel->jupyter->sql_magic) (6.0.3)\nRequirement already satisfied: Send2Trash in /opt/anaconda3/envs/pmital/lib/python3.7/site-packages (from notebook->jupyter->sql_magic) (1.5.0)\nRequirement already satisfied: pyzmq>=17 in /opt/anaconda3/envs/pmital/lib/python3.7/site-packages (from notebook->jupyter->sql_magic) (18.1.0)\nRequirement already satisfied: prometheus-client in /opt/anaconda3/envs/pmital/lib/python3.7/site-packages (from notebook->jupyter->sql_magic) (0.7.1)\nRequirement already satisfied: terminado>=0.8.1 in /opt/anaconda3/envs/pmital/lib/python3.7/site-packages (from notebook->jupyter->sql_magic) (0.8.2)\nRequirement already satisfied: parso>=0.5.0 in /opt/anaconda3/envs/pmital/lib/python3.7/site-packages (from jedi>=0.10->ipython->sql_magic) (0.5.1)\nRequirement already satisfied: ptyprocess>=0.5 in /opt/anaconda3/envs/pmital/lib/python3.7/site-packages (from pexpect; sys_platform != \"win32\"->ipython->sql_magic) (0.6.0)\nRequirement already satisfied: wcwidth in /opt/anaconda3/envs/pmital/lib/python3.7/site-packages (from prompt-toolkit<2.1.0,>=2.0.0->ipython->sql_magic) (0.1.7)\nRequirement already satisfied: webencodings in /opt/anaconda3/envs/pmital/lib/python3.7/site-packages (from bleach->nbconvert->jupyter->sql_magic) (0.5.1)\nRequirement already satisfied: MarkupSafe>=0.23 in /opt/anaconda3/envs/pmital/lib/python3.7/site-packages (from jinja2>=2.4->nbconvert->jupyter->sql_magic) (1.1.1)\nRequirement already satisfied: jsonschema!=2.5.0,>=2.4 in /opt/anaconda3/envs/pmital/lib/python3.7/site-packages (from nbformat>=4.4->nbconvert->jupyter->sql_magic) (3.1.1)\nRequirement already satisfied: attrs>=17.4.0 in /opt/anaconda3/envs/pmital/lib/python3.7/site-packages (from jsonschema!=2.5.0,>=2.4->nbformat>=4.4->nbconvert->jupyter->sql_magic) (19.3.0)\nRequirement already satisfied: pyrsistent>=0.14.0 in /opt/anaconda3/envs/pmital/lib/python3.7/site-packages (from jsonschema!=2.5.0,>=2.4->nbformat>=4.4->nbconvert->jupyter->sql_magic) (0.15.5)\nRequirement already satisfied: importlib-metadata in /opt/anaconda3/envs/pmital/lib/python3.7/site-packages (from jsonschema!=2.5.0,>=2.4->nbformat>=4.4->nbconvert->jupyter->sql_magic) (0.23)\nRequirement already satisfied: zipp>=0.5 in /opt/anaconda3/envs/pmital/lib/python3.7/site-packages (from importlib-metadata->jsonschema!=2.5.0,>=2.4->nbformat>=4.4->nbconvert->jupyter->sql_magic) (0.6.0)\nRequirement already satisfied: more-itertools in /opt/anaconda3/envs/pmital/lib/python3.7/site-packages (from zipp>=0.5->importlib-metadata->jsonschema!=2.5.0,>=2.4->nbformat>=4.4->nbconvert->jupyter->sql_magic) (7.2.0)\n"
        }
      ],
      "source": [
        "#!pip install --user psycopg2-binary\n",
        "#!pip install --user sql_magic\n",
        "import psycopg2"
      ]
    },
    {
      "cell_type": "code",
      "execution_count": 22,
      "metadata": {},
      "outputs": [],
      "source": [
        "# Copy these settings from https://platform.adobe.com/query/configuration\n",
        "connection = psycopg2.connect(\n",
        "    sslmode='require',\n",
        "     host='salesvelocity.platform-query.adobe.io',\n",
        "     port='80',\n",
        "     dbname='malkin:all',\n",
        "     user='E8475990589B24A90A495DDD@AdobeOrg',\n",
        "     password='eNqrVqowLVWyUsrMLY7PSzTUzU6t1DXUS04tUtJRSsxJB8oEBRuZminVAgALngwl.eNptUltvmzAY_S88RiEx4AuuNGkokF5pCyFtU0VCBpuMXHAETleo-t9naLaHbUZC_o7P-e4fRsmNC8NCBCFEqGs7LkhdkGMGCTMRRLkJkaBmVoDMBAxm0MKUZpylJ2EZYyPfl6JS6eCE5cf0VKbHPVOFrA_69dSI-usNuSiYz22EYDAjNrWBB2fUneHvHpeZuPY1uVFMCU39WBuNaJpSVmvjYm38UOrYXEyn5aExK2ZNWC_Yy01ZTXJ56OHpmT59s6bhZeCE_vJnaIfqIfHa-xaA1-1reZfs4P0hVKvtsl11EQztJVh1QXe3ANaD_zSPd6v2PlmCeBk64XbXhkEAom4Ho-7Vi57jt9Xh6Sb21sanTlS1RzGUm-u4qZI7UWmUNRo7J6nNYqPNhLwEVziGL49z5FxBZ_awurvFkeeE34bTV_2n_5ZLHMeCAKYMYtsBBTdtZgsTFgialCPXtDIb5DmEGFNy7n-t_jO_nGSc2JCaglOi9QU2Kc5cE1LGoFMQ7aU462Wu1bWoNmyk865HFhYcU5tzYY8iEgXO4slJfEgiGlAPL4if-PTlcggs2FdgrD80BNbwQZYaFUXhAMizfkG02d1c49bvFjt--5zFbRIjniBvKF-8H8taNGlZaZ6LIehPL6uF3gaeMvV3dX3PcjlMQP-rko_P4x9rCU9lvWFV2TGlkWbMOC_7G9vrCIWcHGu5Fbl2_FhLfsrVTFZKvKt_eLXci2b8ezc_fwEZpfO_.eNoBAAH__h1UkoiMQEc42ER7sEMWAF1OfqCBetAcqCxtNzFLGkBE1O214CcMlmsGm0hB6W6vfvELk9TwHoPZEB2-zENQR8ckQGTASz05u0M9II8AorZFV_n3U4BX48gUmWF8qxXePdZvbtAoVs3oeUOiJ8vxNFBAiBBbQ_MU--Ge9u4kzMbClwtOpiAQddsfyHcoLQZ_9A4tBboxVL5cadsvYkT4y2OABvhsniHHB8a8QINRXyxJYz6M3YduaKyBRvzuyoE4gZbAwgYO3c4QXivhgzo5WAbqPzm11LSrkKzrgHnCk19uV47zGvj6ViXiAxq3_ZZ65oCHQRnRcRfthR7oy0X6ULbldnpz')"
      ]
    },
    {
      "cell_type": "code",
      "execution_count": 27,
      "metadata": {},
      "outputs": [
        {
          "data": {
            "text/html": "<div>\n<style scoped>\n    .dataframe tbody tr th:only-of-type {\n        vertical-align: middle;\n    }\n\n    .dataframe tbody tr th {\n        vertical-align: top;\n    }\n\n    .dataframe thead th {\n        text-align: right;\n    }\n</style>\n<table border=\"1\" class=\"dataframe\">\n  <thead>\n    <tr style=\"text-align: right;\">\n      <th></th>\n      <th>_id</th>\n      <th>_salesvelocity</th>\n      <th>eventType</th>\n      <th>timestamp</th>\n      <th>_ACP_YEAR</th>\n      <th>_ACP_MONTH</th>\n      <th>_ACP_DAY</th>\n      <th>batchId</th>\n    </tr>\n  </thead>\n  <tbody>\n    <tr>\n      <th>0</th>\n      <td>dummy</td>\n      <td>(151315,8.106,42.31,1,false,NULL,1643690.9,2/5...</td>\n      <td>dummy</td>\n      <td>2019-11-01 08:00:00</td>\n      <td>2019</td>\n      <td>11</td>\n      <td>1</td>\n      <td>f14119e0-1284-11ea-ae44-b5af630bc35e</td>\n    </tr>\n    <tr>\n      <th>1</th>\n      <td>dummy</td>\n      <td>(202307,8.324,40.19,2,false,NULL,2136989.46,2/...</td>\n      <td>dummy</td>\n      <td>2019-11-01 08:00:00</td>\n      <td>2019</td>\n      <td>11</td>\n      <td>1</td>\n      <td>f14119e0-1284-11ea-ae44-b5af630bc35e</td>\n    </tr>\n    <tr>\n      <th>2</th>\n      <td>dummy</td>\n      <td>(37392,7.367999999999999,45.71,3,false,NULL,46...</td>\n      <td>dummy</td>\n      <td>2019-11-01 08:00:00</td>\n      <td>2019</td>\n      <td>11</td>\n      <td>1</td>\n      <td>f14119e0-1284-11ea-ae44-b5af630bc35e</td>\n    </tr>\n    <tr>\n      <th>3</th>\n      <td>dummy</td>\n      <td>(205863,8.623,43.76,4,false,NULL,2135143.87,2/...</td>\n      <td>dummy</td>\n      <td>2019-11-01 08:00:00</td>\n      <td>2019</td>\n      <td>11</td>\n      <td>1</td>\n      <td>f14119e0-1284-11ea-ae44-b5af630bc35e</td>\n    </tr>\n    <tr>\n      <th>4</th>\n      <td>dummy</td>\n      <td>(34875,6.566,39.7,5,false,NULL,317173.1,2/5/10...</td>\n      <td>dummy</td>\n      <td>2019-11-01 08:00:00</td>\n      <td>2019</td>\n      <td>11</td>\n      <td>1</td>\n      <td>f14119e0-1284-11ea-ae44-b5af630bc35e</td>\n    </tr>\n  </tbody>\n</table>\n</div>",
            "text/plain": "     _id                                     _salesvelocity eventType  \\\n0  dummy  (151315,8.106,42.31,1,false,NULL,1643690.9,2/5...     dummy   \n1  dummy  (202307,8.324,40.19,2,false,NULL,2136989.46,2/...     dummy   \n2  dummy  (37392,7.367999999999999,45.71,3,false,NULL,46...     dummy   \n3  dummy  (205863,8.623,43.76,4,false,NULL,2135143.87,2/...     dummy   \n4  dummy  (34875,6.566,39.7,5,false,NULL,317173.1,2/5/10...     dummy   \n\n            timestamp  _ACP_YEAR  _ACP_MONTH  _ACP_DAY  \\\n0 2019-11-01 08:00:00       2019          11         1   \n1 2019-11-01 08:00:00       2019          11         1   \n2 2019-11-01 08:00:00       2019          11         1   \n3 2019-11-01 08:00:00       2019          11         1   \n4 2019-11-01 08:00:00       2019          11         1   \n\n                                batchId  \n0  f14119e0-1284-11ea-ae44-b5af630bc35e  \n1  f14119e0-1284-11ea-ae44-b5af630bc35e  \n2  f14119e0-1284-11ea-ae44-b5af630bc35e  \n3  f14119e0-1284-11ea-ae44-b5af630bc35e  \n4  f14119e0-1284-11ea-ae44-b5af630bc35e  "
          },
          "execution_count": 27,
          "metadata": {},
          "output_type": "execute_result"
        }
      ],
      "source": [
        "import pandas\n",
        "df = pandas.read_sql(('SELECT * FROM retail_sales_input_dataset'), con=connection)\n",
        "#print (df[\"_salesvelocity\"])\n",
        "df.head()\n"
      ]
    },
    {
      "cell_type": "code",
      "execution_count": 24,
      "metadata": {},
      "outputs": [],
      "source": [
        "# Enable sql magic\n",
        "#%load_ext sql_magic\n",
        "#%config SQL.conn_name = 'connection'"
      ]
    },
    {
      "cell_type": "code",
      "execution_count": 25,
      "metadata": {},
      "outputs": [],
      "source": [
        "#%%read_sql df_result -a\n",
        "#SELECT * FROM retail_sales_input_dataset"
      ]
    },
    {
      "cell_type": "code",
      "execution_count": null,
      "metadata": {
        "trusted": true
      },
      "outputs": [],
      "source": []
    }
  ],
  "metadata": {
    "kernelspec": {
      "name": "python36",
      "display_name": "Python 3.6",
      "language": "python"
    },
    "language_info": {
      "mimetype": "text/x-python",
      "nbconvert_exporter": "python",
      "name": "python",
      "pygments_lexer": "ipython3",
      "version": "3.7.5",
      "file_extension": ".py",
      "codemirror_mode": {
        "version": 3,
        "name": "ipython"
      }
    }
  },
  "nbformat": 4,
  "nbformat_minor": 2
}